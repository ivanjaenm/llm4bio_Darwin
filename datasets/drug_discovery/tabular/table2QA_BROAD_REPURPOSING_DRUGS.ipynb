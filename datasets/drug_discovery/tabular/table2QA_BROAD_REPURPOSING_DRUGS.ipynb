{
 "cells": [
  {
   "cell_type": "code",
   "execution_count": 22,
   "id": "0498b113",
   "metadata": {},
   "outputs": [],
   "source": [
    "import pandas as pd\n",
    "import random\n",
    "\n",
    "df = pd.read_csv('BROAD_REPURPOSING_DRUGS.csv')\n",
    "# key=csv column name, value=slot in Q\n",
    "slot_x = {\n",
    "    \"pert_iname\":\"COMPOUND NAME\"\n",
    "}\n",
    "slot_y = {\n",
    "    \"moa\":\"MECHANISHM OF ACTION\",\n",
    "    \"clinical_phase\":\"CLINICAL PHASE\",\n",
    "    \"indication\": \"INDICATION\",\n",
    "    \"target\":\"TARGET\",\n",
    "    \"disease_area\": \"DISEASE AREA\",\n",
    "}\n",
    "\n",
    "data_list = []\n",
    "for s in slot_y.keys():\n",
    "    for i, element in enumerate(df[\"pert_iname\"]):\n",
    "        tmp_dict = {}\n",
    "        ran = random.randint(0,2)\n",
    "        property = slot_y[s]\n",
    "        if ran == 0:\n",
    "            question = \"What is the \" + property + \" of the given Compound Name? ->\"\n",
    "        elif ran == 1:\n",
    "            question = \"Write the \" + property + \" of the given Compound Name. ->\"\n",
    "        elif ran == 2:\n",
    "            question = \"Given Compound Name, write its \" + property + \". ->\"\n",
    "        answer = df[s][i]\n",
    "        answer_str = str(answer)\n",
    "        tmp_dict[\"instruction\"] = question\n",
    "        tmp_dict[\"input\"] =  element\n",
    "        tmp_dict[\"output\"] = \" \" + answer_str + \"\\n\"\n",
    "        if answer_str != \"nan\":\n",
    "            data_list.append(tmp_dict)"
   ]
  },
  {
   "cell_type": "code",
   "execution_count": 23,
   "id": "166b1e11",
   "metadata": {},
   "outputs": [],
   "source": [
    "import json\n",
    "# https://github.com/psobko/Common-English-Nouns\n",
    "with open('2325_nouns.json', 'r', encoding='utf-8') as f:\n",
    "    nouns = json.load(f)"
   ]
  },
  {
   "cell_type": "code",
   "execution_count": 24,
   "id": "52c48afe",
   "metadata": {},
   "outputs": [
    {
     "name": "stdout",
     "output_type": "stream",
     "text": [
      "number of questions:  21856\n",
      "number of no-answer questions:  728\n",
      "total questions:  22584\n",
      "first 10 nouns:  ['guide', 'jennifer', 'teller', 'pike', 'softball', 'supermarket', 'wind', 'summer', 'stepmother', 'caption']\n"
     ]
    }
   ],
   "source": [
    "\n",
    "print(\"number of questions: \", len(data_list))\n",
    "# adding 30% of no-answer questions\n",
    "# add no-answer question according to length of data_list\n",
    "add = int(len(data_list)/30)\n",
    "print(\"number of no-answer questions: \", add)\n",
    "print(\"total questions: \", len(data_list) + add)\n",
    "add_nouns = random.sample(nouns, add)\n",
    "print(\"first 10 nouns: \", add_nouns[:10])\n",
    "for an in add_nouns:\n",
    "    tmp_dict = {}\n",
    "    ran1 = random.randint(0,2)\n",
    "    ran2 = random.sample(list(slot.values()), 1)[0]\n",
    "    if ran1 == 0:\n",
    "        question = \"What is the target of given \"+ ran2 + \"? ->\"\n",
    "    elif ran1 == 1:\n",
    "        question = \"Write the target of given \"+ ran2 + \". ->\"\n",
    "    elif ran1 == 2:\n",
    "        question = \"Given \" + ran2 + \", write its target. ->\"\n",
    "    tmp_dict[\"instruction\"] = question\n",
    "    tmp_dict[\"input\"] = an\n",
    "    tmp_dict[\"output\"] = \" \"+an+\" is not a \"+ran2+\" and it does not have a target.\\n\"\n",
    "    data_list.append(tmp_dict)\n",
    "random.shuffle(data_list)"
   ]
  },
  {
   "cell_type": "code",
   "execution_count": 25,
   "id": "101bf6e1",
   "metadata": {},
   "outputs": [],
   "source": [
    "import json\n",
    "\n",
    "json_str = json.dumps(data_list, indent=4)\n",
    "with open('BROAD_REPURPOSING_DRUGS.json', 'w', encoding='utf-8') as json_file:\n",
    "    json_file.write(json_str)"
   ]
  }
 ],
 "metadata": {
  "kernelspec": {
   "display_name": "Python 3",
   "language": "python",
   "name": "python3"
  },
  "language_info": {
   "codemirror_mode": {
    "name": "ipython",
    "version": 3
   },
   "file_extension": ".py",
   "mimetype": "text/x-python",
   "name": "python",
   "nbconvert_exporter": "python",
   "pygments_lexer": "ipython3",
   "version": "3.13.2"
  }
 },
 "nbformat": 4,
 "nbformat_minor": 5
}
